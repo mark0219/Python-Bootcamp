{
 "cells": [
  {
   "cell_type": "code",
   "execution_count": 47,
   "metadata": {
    "collapsed": true
   },
   "outputs": [],
   "source": [
    "import re"
   ]
  },
  {
   "cell_type": "code",
   "execution_count": 48,
   "metadata": {
    "collapsed": true
   },
   "outputs": [],
   "source": [
    "def sortout(x):\n",
    "    response = []\n",
    "    for tup in x:\n",
    "        for item in tup:\n",
    "            if item <> '':\n",
    "                response.append(item)\n",
    "    print response"
   ]
  },
  {
   "cell_type": "code",
   "execution_count": 49,
   "metadata": {
    "collapsed": true
   },
   "outputs": [],
   "source": [
    "x = re.compile('(\\d+\\.\\d+)|(\\.\\d+)|(\\d+\\.)|(\\d+)')\n",
    "y = re.compile('(\\d*\\.+\\d+)|(\\d+\\.*\\d*)')\n",
    "z = re.compile('(\\d*\\.+\\d+)|(\\d+\\.*)')"
   ]
  },
  {
   "cell_type": "code",
   "execution_count": 61,
   "metadata": {
    "collapsed": false
   },
   "outputs": [],
   "source": [
    "numbs = '1234 12.34 .1234 1234. '"
   ]
  },
  {
   "cell_type": "code",
   "execution_count": 62,
   "metadata": {
    "collapsed": false
   },
   "outputs": [
    {
     "name": "stdout",
     "output_type": "stream",
     "text": [
      "1234 12.34 .1234 1234.  \n",
      "\n",
      "[('', '', '', '1234'), ('12.34', '', '', ''), ('', '.1234', '', ''), ('', '', '1234.', '')]\n",
      "['1234', '12.34', '.1234', '1234.']\n",
      "[('', '1234'), ('12.34', ''), ('.1234', ''), ('', '1234.')]\n",
      "['1234', '12.34', '.1234', '1234.']\n",
      "[('', '1234'), ('12.34', ''), ('.1234', ''), ('', '1234.')]\n",
      "['1234', '12.34', '.1234', '1234.']\n"
     ]
    }
   ],
   "source": [
    "print numbs,'\\n'\n",
    "print x.findall(numbs)\n",
    "sortout(x.findall(numbs))\n",
    "print y.findall(numbs)\n",
    "sortout(y.findall(numbs))\n",
    "print z.findall(numbs)\n",
    "sortout(z.findall(numbs))"
   ]
  },
  {
   "cell_type": "code",
   "execution_count": null,
   "metadata": {
    "collapsed": true
   },
   "outputs": [],
   "source": []
  }
 ],
 "metadata": {
  "kernelspec": {
   "display_name": "Python 2",
   "language": "python",
   "name": "python2"
  },
  "language_info": {
   "codemirror_mode": {
    "name": "ipython",
    "version": 2
   },
   "file_extension": ".py",
   "mimetype": "text/x-python",
   "name": "python",
   "nbconvert_exporter": "python",
   "pygments_lexer": "ipython2",
   "version": "2.7.13"
  }
 },
 "nbformat": 4,
 "nbformat_minor": 0
}
