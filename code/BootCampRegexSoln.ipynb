{
 "cells": [
  {
   "cell_type": "code",
   "execution_count": 1,
   "metadata": {
    "collapsed": true
   },
   "outputs": [],
   "source": [
    "import re"
   ]
  },
  {
   "cell_type": "code",
   "execution_count": 10,
   "metadata": {
    "collapsed": false
   },
   "outputs": [
    {
     "name": "stdout",
     "output_type": "stream",
     "text": [
      "Welcome to RegExr v2.1 by gskinner.com, proudly hosted by Media Temple!\n",
      "\n",
      "Edit the Expression & Text to see matches. Roll over matches or the expression for details. Undo mistakes with ctrl-z. Save Favorites & Share expressions with friends or the Community. Explore your results with Tools. A full Reference & Help is available in the Library, or watch the video Tutorial.\n",
      "\n",
      "Sample text for testing:\n",
      "abcdefghijklmnopqrstuvwxyz ABCDEFGHIJKLMNOPQRSTUVWXYZ\n",
      "0123456789 _+-.,!@#$%^&*();\\/|<>\"'\n",
      "12345 -98.7 3.141 .6180 9,000 +42\n",
      "555.123.4567\t+1-(800)-555-2468\n",
      "foo@demo.net\tbar.ba@test.co.uk\n",
      "www.demo.com\thttp://foo.co.uk/\n",
      "http://regexr.com/foo.html?q=bar\n",
      "https://mediatemple.net\n"
     ]
    }
   ],
   "source": [
    "file_in = open('D:/TeachingMaterials/BusinessAnalytics/Programming/Python/BootCamp/2017/PythonBootCamp/newMaterial/fromRegexrDotCom.txt','r')\n",
    "text = file_in.read()\n",
    "print text"
   ]
  },
  {
   "cell_type": "code",
   "execution_count": 14,
   "metadata": {
    "collapsed": false
   },
   "outputs": [
    {
     "name": "stdout",
     "output_type": "stream",
     "text": [
      "['2', '1', '0123456789', '12345', '98', '7', '3', '141', '6180', '9', '000', '42', '555', '123', '4567', '1', '800', '555', '2468']\n"
     ]
    }
   ],
   "source": [
    "x = re.findall('[0-9]+', text)\n",
    "print x"
   ]
  },
  {
   "cell_type": "code",
   "execution_count": 17,
   "metadata": {
    "collapsed": false
   },
   "outputs": [
    {
     "name": "stdout",
     "output_type": "stream",
     "text": [
      "['Welcome', 'with', 'with', 'with', 'watch', 'wxyz', 'WXYZ', 'www']\n"
     ]
    }
   ],
   "source": [
    "y = re.findall('[wW][A-Za-z]*',text)\n",
    "print y"
   ]
  },
  {
   "cell_type": "code",
   "execution_count": 25,
   "metadata": {
    "collapsed": false
   },
   "outputs": [
    {
     "name": "stdout",
     "output_type": "stream",
     "text": [
      "['555.123.4567', 'test.co.uk', 'www.demo.com', 'foo.co.uk']\n"
     ]
    }
   ],
   "source": [
    "z = re.findall('[A-Za-z0-9]+\\.[A-Za-z0-9]+\\.[A-Za-z0-9]+',text)\n",
    "print z"
   ]
  },
  {
   "cell_type": "markdown",
   "metadata": {},
   "source": [
    "Okay, the solution above is not quite good enough.  We'd need to do some more work to ensure that in each character cluster between the dots there was at least one letter so that we did not find phone numbers as well."
   ]
  },
  {
   "cell_type": "code",
   "execution_count": 27,
   "metadata": {
    "collapsed": false
   },
   "outputs": [
    {
     "name": "stdout",
     "output_type": "stream",
     "text": [
      "['test.co.uk', 'www.demo.com', 'foo.co.uk']\n"
     ]
    }
   ],
   "source": [
    "z1 = re.findall('[A-Za-z0-9]+\\.[A-Za-z0-9]+\\.[A-Za-z]{2,3}',text)\n",
    "print z1"
   ]
  },
  {
   "cell_type": "markdown",
   "metadata": {},
   "source": [
    "The last Regex expression assumes that the last entity of the domain contains only letters and has 2 or 3 characters.  We'd need to check the specs to see if we'd omit valid domains.  If we knew all the possible extensions on domains, we could solve the problem this way."
   ]
  },
  {
   "cell_type": "code",
   "execution_count": 28,
   "metadata": {
    "collapsed": false
   },
   "outputs": [
    {
     "name": "stdout",
     "output_type": "stream",
     "text": [
      "['test.co.uk', 'www.demo.com', 'foo.co.uk']\n"
     ]
    }
   ],
   "source": [
    "z = re.findall('[A-Za-z0-9]+\\.[A-Za-z0-9]+\\.[(com),(edu),(uk)]+',text)\n",
    "print z"
   ]
  },
  {
   "cell_type": "code",
   "execution_count": 31,
   "metadata": {
    "collapsed": false
   },
   "outputs": [
    {
     "name": "stdout",
     "output_type": "stream",
     "text": [
      "Welcome to RegExr v2.1 by gskinner.com, proudly hosted by Media Temple!\n",
      "\n",
      "Edit the Exprezzion & Text to see matches. Roll over matches or the exprezzion for details. Undo mistakes with ctrl-z. Save Favorites & Share exprezzions with friends or the Community. Explore your results with Tools. A full Reference & Help is available in the Library, or watch the video Tutorial.\n",
      "\n",
      "Sample text for testing:\n",
      "abcdefghijklmnopqrstuvwxyz ABCDEFGHIJKLMNOPQRSTUVWXYZ\n",
      "0123456789 _+-.,!@#$%^&*();\\/|<>\"'\n",
      "12345 -98.7 3.141 .6180 9,000 +42\n",
      "555.123.4567\t+1-(800)-555-2468\n",
      "foo@demo.net\tbar.ba@test.co.uk\n",
      "www.demo.com\thttp://foo.co.uk/\n",
      "http://regexr.com/foo.html?q=bar\n",
      "https://mediatemple.net\n"
     ]
    }
   ],
   "source": [
    "aa = re.sub('ss', 'zz', text)\n",
    "print aa"
   ]
  },
  {
   "cell_type": "code",
   "execution_count": null,
   "metadata": {
    "collapsed": true
   },
   "outputs": [],
   "source": [
    "file_in.close()"
   ]
  }
 ],
 "metadata": {
  "kernelspec": {
   "display_name": "Python 2",
   "language": "python",
   "name": "python2"
  },
  "language_info": {
   "codemirror_mode": {
    "name": "ipython",
    "version": 2
   },
   "file_extension": ".py",
   "mimetype": "text/x-python",
   "name": "python",
   "nbconvert_exporter": "python",
   "pygments_lexer": "ipython2",
   "version": "2.7.13"
  }
 },
 "nbformat": 4,
 "nbformat_minor": 0
}
