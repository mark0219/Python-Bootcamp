{
 "cells": [
  {
   "cell_type": "code",
   "execution_count": 39,
   "metadata": {
    "collapsed": false
   },
   "outputs": [
    {
     "name": "stdout",
     "output_type": "stream",
     "text": [
      "If I can stop one heart from breaking,\n",
      "I shall not live in vain;\n",
      "If I can ease one life the aching,\n",
      "Or cool one pain,\n",
      "Or help one fainting robin\n",
      "Unto his nest again,\n",
      "I shall not live in vain.\n",
      "41 ['If', 'I', 'can', 'stop', 'one', 'heart', 'from', 'breaking,', 'I', 'shall', 'not', 'live', 'in', 'vain;', 'If', 'I', 'can', 'ease', 'one', 'life', 'the', 'aching,', 'Or', 'cool', 'one', 'pain,', 'Or', 'help', 'one', 'fainting', 'robin', 'Unto', 'his', 'nest', 'again,', 'I', 'shall', 'not', 'live', 'in', 'vain.']\n",
      "28 set(['heart', 'help', 'vain.', 'breaking,', 'one', 'vain;', 'in', 'from', 'ease', 'live', 'fainting', 'aching,', 'life', 'his', 'again,', 'shall', 'I', 'nest', 'stop', 'not', 'Or', 'cool', 'pain,', 'can', 'the', 'robin', 'Unto', 'If'])\n"
     ]
    }
   ],
   "source": [
    "f_in = open('D:/TeachingMaterials/BusinessAnalytics/Programming/Python/BootCamp/2017/PythonBootCamp/newMaterial/pal.txt','r')\n",
    "words = []\n",
    "lines = f_in.readlines()\n",
    "for line in lines:\n",
    "    line = line.strip()\n",
    "    line = line.rstrip('\\n')\n",
    "    line = line.strip()\n",
    "    print line\n",
    "    words.extend(line.split(' '))\n",
    "print len(words),words\n",
    "f_in.close()\n",
    "words = set(words)\n",
    "print len(words), words"
   ]
  }
 ],
 "metadata": {
  "kernelspec": {
   "display_name": "Python 2",
   "language": "python",
   "name": "python2"
  },
  "language_info": {
   "codemirror_mode": {
    "name": "ipython",
    "version": 2
   },
   "file_extension": ".py",
   "mimetype": "text/x-python",
   "name": "python",
   "nbconvert_exporter": "python",
   "pygments_lexer": "ipython2",
   "version": "2.7.13"
  }
 },
 "nbformat": 4,
 "nbformat_minor": 0
}
